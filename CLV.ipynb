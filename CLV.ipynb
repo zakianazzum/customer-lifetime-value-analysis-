{
 "cells": [
  {
   "metadata": {},
   "cell_type": "code",
   "source": [
    "import pandas as pd  \n",
    "import matplotlib.pyplot as plt\n",
    "import seaborn as sns\n",
    "from scipy import stats\n",
    "%matplotlib inline"
   ],
   "id": "a7092655259deb5a",
   "outputs": [],
   "execution_count": null
  },
  {
   "metadata": {},
   "cell_type": "code",
   "source": "!pip install seaborn -q",
   "id": "f4e818f1defc62dd",
   "outputs": [],
   "execution_count": null
  },
  {
   "metadata": {},
   "cell_type": "code",
   "source": "df = pd.read_csv('Customer-Value-Analysis.csv')",
   "id": "9961003bf102abf8",
   "outputs": [],
   "execution_count": null
  },
  {
   "metadata": {
    "ExecuteTime": {
     "end_time": "2024-08-11T09:03:19.503153Z",
     "start_time": "2024-08-11T09:03:19.476682Z"
    }
   },
   "cell_type": "code",
   "source": "df",
   "id": "726b7fa3083b5578",
   "outputs": [
    {
     "data": {
      "text/plain": [
       "     Customer       State  Customer Lifetime Value Response  Coverage  \\\n",
       "0     BU79786  Washington              2763.519279       No     Basic   \n",
       "1     QZ44356     Arizona              6979.535903       No  Extended   \n",
       "2     AI49188      Nevada             12887.431650       No   Premium   \n",
       "3     WW63253  California              7645.861827       No     Basic   \n",
       "4     HB64268  Washington              2813.692575       No     Basic   \n",
       "...       ...         ...                      ...      ...       ...   \n",
       "9129  LA72316  California             23405.987980       No     Basic   \n",
       "9130  PK87824  California              3096.511217      Yes  Extended   \n",
       "9131  TD14365  California              8163.890428       No  Extended   \n",
       "9132  UP19263  California              7524.442436       No  Extended   \n",
       "9133  Y167826  California              2611.836866       No  Extended   \n",
       "\n",
       "     Education Effective To Date EmploymentStatus Gender  Income  ...  \\\n",
       "0     Bachelor        2011-02-24         Employed      F   56274  ...   \n",
       "1     Bachelor        2011-01-31       Unemployed      F       0  ...   \n",
       "2     Bachelor        2011-02-19         Employed      F   48767  ...   \n",
       "3     Bachelor        2011-01-20       Unemployed      M       0  ...   \n",
       "4     Bachelor        2011-03-02         Employed      M   43836  ...   \n",
       "...        ...               ...              ...    ...     ...  ...   \n",
       "9129  Bachelor        2011-10-02         Employed      M   71941  ...   \n",
       "9130   College        2011-12-02         Employed      F   21604  ...   \n",
       "9131  Bachelor        2011-06-02       Unemployed      M       0  ...   \n",
       "9132   College        2011-03-02         Employed      M   21941  ...   \n",
       "9133   College        2011-02-14       Unemployed      M       0  ...   \n",
       "\n",
       "     Months Since Policy Inception Number of Open Complaints  \\\n",
       "0                                5                         0   \n",
       "1                               42                         0   \n",
       "2                               38                         0   \n",
       "3                               65                         0   \n",
       "4                               44                         0   \n",
       "...                            ...                       ...   \n",
       "9129                            89                         0   \n",
       "9130                            28                         0   \n",
       "9131                            37                         3   \n",
       "9132                             3                         0   \n",
       "9133                            90                         0   \n",
       "\n",
       "      Number of Policies     Policy Type        Policy  Renew Offer Type  \\\n",
       "0                      1  Corporate Auto  Corporate L3            Offer1   \n",
       "1                      8   Personal Auto   Personal L3            Offer3   \n",
       "2                      2   Personal Auto   Personal L3            Offer1   \n",
       "3                      7  Corporate Auto  Corporate L2            Offer1   \n",
       "4                      1   Personal Auto   Personal L1            Offer1   \n",
       "...                  ...             ...           ...               ...   \n",
       "9129                   2   Personal Auto   Personal L1            Offer2   \n",
       "9130                   1  Corporate Auto  Corporate L3            Offer1   \n",
       "9131                   2  Corporate Auto  Corporate L2            Offer1   \n",
       "9132                   3   Personal Auto   Personal L2            Offer3   \n",
       "9133                   1  Corporate Auto  Corporate L3            Offer4   \n",
       "\n",
       "      Sales Channel Total Claim Amount  Vehicle Class Vehicle Size  \n",
       "0             Agent         384.811147   Two-Door Car      Medsize  \n",
       "1             Agent        1131.464935  Four-Door Car      Medsize  \n",
       "2             Agent         566.472247   Two-Door Car      Medsize  \n",
       "3       Call Center         529.881344            SUV      Medsize  \n",
       "4             Agent         138.130879  Four-Door Car      Medsize  \n",
       "...             ...                ...            ...          ...  \n",
       "9129            Web         198.234764  Four-Door Car      Medsize  \n",
       "9130         Branch         379.200000  Four-Door Car      Medsize  \n",
       "9131         Branch         790.784983  Four-Door Car      Medsize  \n",
       "9132         Branch         691.200000  Four-Door Car        Large  \n",
       "9133    Call Center         369.600000   Two-Door Car      Medsize  \n",
       "\n",
       "[9134 rows x 24 columns]"
      ],
      "text/html": [
       "<div>\n",
       "<style scoped>\n",
       "    .dataframe tbody tr th:only-of-type {\n",
       "        vertical-align: middle;\n",
       "    }\n",
       "\n",
       "    .dataframe tbody tr th {\n",
       "        vertical-align: top;\n",
       "    }\n",
       "\n",
       "    .dataframe thead th {\n",
       "        text-align: right;\n",
       "    }\n",
       "</style>\n",
       "<table border=\"1\" class=\"dataframe\">\n",
       "  <thead>\n",
       "    <tr style=\"text-align: right;\">\n",
       "      <th></th>\n",
       "      <th>Customer</th>\n",
       "      <th>State</th>\n",
       "      <th>Customer Lifetime Value</th>\n",
       "      <th>Response</th>\n",
       "      <th>Coverage</th>\n",
       "      <th>Education</th>\n",
       "      <th>Effective To Date</th>\n",
       "      <th>EmploymentStatus</th>\n",
       "      <th>Gender</th>\n",
       "      <th>Income</th>\n",
       "      <th>...</th>\n",
       "      <th>Months Since Policy Inception</th>\n",
       "      <th>Number of Open Complaints</th>\n",
       "      <th>Number of Policies</th>\n",
       "      <th>Policy Type</th>\n",
       "      <th>Policy</th>\n",
       "      <th>Renew Offer Type</th>\n",
       "      <th>Sales Channel</th>\n",
       "      <th>Total Claim Amount</th>\n",
       "      <th>Vehicle Class</th>\n",
       "      <th>Vehicle Size</th>\n",
       "    </tr>\n",
       "  </thead>\n",
       "  <tbody>\n",
       "    <tr>\n",
       "      <th>0</th>\n",
       "      <td>BU79786</td>\n",
       "      <td>Washington</td>\n",
       "      <td>2763.519279</td>\n",
       "      <td>No</td>\n",
       "      <td>Basic</td>\n",
       "      <td>Bachelor</td>\n",
       "      <td>2011-02-24</td>\n",
       "      <td>Employed</td>\n",
       "      <td>F</td>\n",
       "      <td>56274</td>\n",
       "      <td>...</td>\n",
       "      <td>5</td>\n",
       "      <td>0</td>\n",
       "      <td>1</td>\n",
       "      <td>Corporate Auto</td>\n",
       "      <td>Corporate L3</td>\n",
       "      <td>Offer1</td>\n",
       "      <td>Agent</td>\n",
       "      <td>384.811147</td>\n",
       "      <td>Two-Door Car</td>\n",
       "      <td>Medsize</td>\n",
       "    </tr>\n",
       "    <tr>\n",
       "      <th>1</th>\n",
       "      <td>QZ44356</td>\n",
       "      <td>Arizona</td>\n",
       "      <td>6979.535903</td>\n",
       "      <td>No</td>\n",
       "      <td>Extended</td>\n",
       "      <td>Bachelor</td>\n",
       "      <td>2011-01-31</td>\n",
       "      <td>Unemployed</td>\n",
       "      <td>F</td>\n",
       "      <td>0</td>\n",
       "      <td>...</td>\n",
       "      <td>42</td>\n",
       "      <td>0</td>\n",
       "      <td>8</td>\n",
       "      <td>Personal Auto</td>\n",
       "      <td>Personal L3</td>\n",
       "      <td>Offer3</td>\n",
       "      <td>Agent</td>\n",
       "      <td>1131.464935</td>\n",
       "      <td>Four-Door Car</td>\n",
       "      <td>Medsize</td>\n",
       "    </tr>\n",
       "    <tr>\n",
       "      <th>2</th>\n",
       "      <td>AI49188</td>\n",
       "      <td>Nevada</td>\n",
       "      <td>12887.431650</td>\n",
       "      <td>No</td>\n",
       "      <td>Premium</td>\n",
       "      <td>Bachelor</td>\n",
       "      <td>2011-02-19</td>\n",
       "      <td>Employed</td>\n",
       "      <td>F</td>\n",
       "      <td>48767</td>\n",
       "      <td>...</td>\n",
       "      <td>38</td>\n",
       "      <td>0</td>\n",
       "      <td>2</td>\n",
       "      <td>Personal Auto</td>\n",
       "      <td>Personal L3</td>\n",
       "      <td>Offer1</td>\n",
       "      <td>Agent</td>\n",
       "      <td>566.472247</td>\n",
       "      <td>Two-Door Car</td>\n",
       "      <td>Medsize</td>\n",
       "    </tr>\n",
       "    <tr>\n",
       "      <th>3</th>\n",
       "      <td>WW63253</td>\n",
       "      <td>California</td>\n",
       "      <td>7645.861827</td>\n",
       "      <td>No</td>\n",
       "      <td>Basic</td>\n",
       "      <td>Bachelor</td>\n",
       "      <td>2011-01-20</td>\n",
       "      <td>Unemployed</td>\n",
       "      <td>M</td>\n",
       "      <td>0</td>\n",
       "      <td>...</td>\n",
       "      <td>65</td>\n",
       "      <td>0</td>\n",
       "      <td>7</td>\n",
       "      <td>Corporate Auto</td>\n",
       "      <td>Corporate L2</td>\n",
       "      <td>Offer1</td>\n",
       "      <td>Call Center</td>\n",
       "      <td>529.881344</td>\n",
       "      <td>SUV</td>\n",
       "      <td>Medsize</td>\n",
       "    </tr>\n",
       "    <tr>\n",
       "      <th>4</th>\n",
       "      <td>HB64268</td>\n",
       "      <td>Washington</td>\n",
       "      <td>2813.692575</td>\n",
       "      <td>No</td>\n",
       "      <td>Basic</td>\n",
       "      <td>Bachelor</td>\n",
       "      <td>2011-03-02</td>\n",
       "      <td>Employed</td>\n",
       "      <td>M</td>\n",
       "      <td>43836</td>\n",
       "      <td>...</td>\n",
       "      <td>44</td>\n",
       "      <td>0</td>\n",
       "      <td>1</td>\n",
       "      <td>Personal Auto</td>\n",
       "      <td>Personal L1</td>\n",
       "      <td>Offer1</td>\n",
       "      <td>Agent</td>\n",
       "      <td>138.130879</td>\n",
       "      <td>Four-Door Car</td>\n",
       "      <td>Medsize</td>\n",
       "    </tr>\n",
       "    <tr>\n",
       "      <th>...</th>\n",
       "      <td>...</td>\n",
       "      <td>...</td>\n",
       "      <td>...</td>\n",
       "      <td>...</td>\n",
       "      <td>...</td>\n",
       "      <td>...</td>\n",
       "      <td>...</td>\n",
       "      <td>...</td>\n",
       "      <td>...</td>\n",
       "      <td>...</td>\n",
       "      <td>...</td>\n",
       "      <td>...</td>\n",
       "      <td>...</td>\n",
       "      <td>...</td>\n",
       "      <td>...</td>\n",
       "      <td>...</td>\n",
       "      <td>...</td>\n",
       "      <td>...</td>\n",
       "      <td>...</td>\n",
       "      <td>...</td>\n",
       "      <td>...</td>\n",
       "    </tr>\n",
       "    <tr>\n",
       "      <th>9129</th>\n",
       "      <td>LA72316</td>\n",
       "      <td>California</td>\n",
       "      <td>23405.987980</td>\n",
       "      <td>No</td>\n",
       "      <td>Basic</td>\n",
       "      <td>Bachelor</td>\n",
       "      <td>2011-10-02</td>\n",
       "      <td>Employed</td>\n",
       "      <td>M</td>\n",
       "      <td>71941</td>\n",
       "      <td>...</td>\n",
       "      <td>89</td>\n",
       "      <td>0</td>\n",
       "      <td>2</td>\n",
       "      <td>Personal Auto</td>\n",
       "      <td>Personal L1</td>\n",
       "      <td>Offer2</td>\n",
       "      <td>Web</td>\n",
       "      <td>198.234764</td>\n",
       "      <td>Four-Door Car</td>\n",
       "      <td>Medsize</td>\n",
       "    </tr>\n",
       "    <tr>\n",
       "      <th>9130</th>\n",
       "      <td>PK87824</td>\n",
       "      <td>California</td>\n",
       "      <td>3096.511217</td>\n",
       "      <td>Yes</td>\n",
       "      <td>Extended</td>\n",
       "      <td>College</td>\n",
       "      <td>2011-12-02</td>\n",
       "      <td>Employed</td>\n",
       "      <td>F</td>\n",
       "      <td>21604</td>\n",
       "      <td>...</td>\n",
       "      <td>28</td>\n",
       "      <td>0</td>\n",
       "      <td>1</td>\n",
       "      <td>Corporate Auto</td>\n",
       "      <td>Corporate L3</td>\n",
       "      <td>Offer1</td>\n",
       "      <td>Branch</td>\n",
       "      <td>379.200000</td>\n",
       "      <td>Four-Door Car</td>\n",
       "      <td>Medsize</td>\n",
       "    </tr>\n",
       "    <tr>\n",
       "      <th>9131</th>\n",
       "      <td>TD14365</td>\n",
       "      <td>California</td>\n",
       "      <td>8163.890428</td>\n",
       "      <td>No</td>\n",
       "      <td>Extended</td>\n",
       "      <td>Bachelor</td>\n",
       "      <td>2011-06-02</td>\n",
       "      <td>Unemployed</td>\n",
       "      <td>M</td>\n",
       "      <td>0</td>\n",
       "      <td>...</td>\n",
       "      <td>37</td>\n",
       "      <td>3</td>\n",
       "      <td>2</td>\n",
       "      <td>Corporate Auto</td>\n",
       "      <td>Corporate L2</td>\n",
       "      <td>Offer1</td>\n",
       "      <td>Branch</td>\n",
       "      <td>790.784983</td>\n",
       "      <td>Four-Door Car</td>\n",
       "      <td>Medsize</td>\n",
       "    </tr>\n",
       "    <tr>\n",
       "      <th>9132</th>\n",
       "      <td>UP19263</td>\n",
       "      <td>California</td>\n",
       "      <td>7524.442436</td>\n",
       "      <td>No</td>\n",
       "      <td>Extended</td>\n",
       "      <td>College</td>\n",
       "      <td>2011-03-02</td>\n",
       "      <td>Employed</td>\n",
       "      <td>M</td>\n",
       "      <td>21941</td>\n",
       "      <td>...</td>\n",
       "      <td>3</td>\n",
       "      <td>0</td>\n",
       "      <td>3</td>\n",
       "      <td>Personal Auto</td>\n",
       "      <td>Personal L2</td>\n",
       "      <td>Offer3</td>\n",
       "      <td>Branch</td>\n",
       "      <td>691.200000</td>\n",
       "      <td>Four-Door Car</td>\n",
       "      <td>Large</td>\n",
       "    </tr>\n",
       "    <tr>\n",
       "      <th>9133</th>\n",
       "      <td>Y167826</td>\n",
       "      <td>California</td>\n",
       "      <td>2611.836866</td>\n",
       "      <td>No</td>\n",
       "      <td>Extended</td>\n",
       "      <td>College</td>\n",
       "      <td>2011-02-14</td>\n",
       "      <td>Unemployed</td>\n",
       "      <td>M</td>\n",
       "      <td>0</td>\n",
       "      <td>...</td>\n",
       "      <td>90</td>\n",
       "      <td>0</td>\n",
       "      <td>1</td>\n",
       "      <td>Corporate Auto</td>\n",
       "      <td>Corporate L3</td>\n",
       "      <td>Offer4</td>\n",
       "      <td>Call Center</td>\n",
       "      <td>369.600000</td>\n",
       "      <td>Two-Door Car</td>\n",
       "      <td>Medsize</td>\n",
       "    </tr>\n",
       "  </tbody>\n",
       "</table>\n",
       "<p>9134 rows × 24 columns</p>\n",
       "</div>"
      ]
     },
     "execution_count": 74,
     "metadata": {},
     "output_type": "execute_result"
    }
   ],
   "execution_count": 74
  },
  {
   "metadata": {
    "ExecuteTime": {
     "end_time": "2024-08-11T09:03:35.096118Z",
     "start_time": "2024-08-11T09:03:35.089304Z"
    }
   },
   "cell_type": "code",
   "source": "df.dtypes",
   "id": "2f0c443e1415d416",
   "outputs": [
    {
     "data": {
      "text/plain": [
       "Customer                                 object\n",
       "State                                    object\n",
       "Customer Lifetime Value                 float64\n",
       "Response                                 object\n",
       "Coverage                                 object\n",
       "Education                                object\n",
       "Effective To Date                datetime64[ns]\n",
       "EmploymentStatus                         object\n",
       "Gender                                   object\n",
       "Income                                    int64\n",
       "Location Code                            object\n",
       "Marital Status                           object\n",
       "Monthly Premium Auto                      int64\n",
       "Months Since Last Claim                   int64\n",
       "Months Since Policy Inception             int64\n",
       "Number of Open Complaints                 int64\n",
       "Number of Policies                        int64\n",
       "Policy Type                              object\n",
       "Policy                                   object\n",
       "Renew Offer Type                         object\n",
       "Sales Channel                            object\n",
       "Total Claim Amount                      float64\n",
       "Vehicle Class                            object\n",
       "Vehicle Size                             object\n",
       "dtype: object"
      ]
     },
     "execution_count": 75,
     "metadata": {},
     "output_type": "execute_result"
    }
   ],
   "execution_count": 75
  },
  {
   "metadata": {},
   "cell_type": "code",
   "source": [
    "# Checking for the numerical and categorical variable \n",
    "num_cols_count = len(df.select_dtypes(include=['number']).columns)\n",
    "cate_cols = df.select_dtypes(include=['object']).columns\n",
    "print(f'Number of numeric columns: {num_cols_count}')\n",
    "print(f'Number of categorical columns: {len(cate_cols)}')"
   ],
   "id": "2dbf2c354aa1ce9",
   "outputs": [],
   "execution_count": null
  },
  {
   "metadata": {},
   "cell_type": "markdown",
   "source": "# 1. Data Cleaning ",
   "id": "65a412d8bfe4c874"
  },
  {
   "metadata": {},
   "cell_type": "code",
   "source": "df.duplicated().sum()",
   "id": "4eba142f02eb1ef2",
   "outputs": [],
   "execution_count": null
  },
  {
   "metadata": {},
   "cell_type": "markdown",
   "source": "No Duplicate and NUll values in the dataset",
   "id": "23048f02724aab44"
  },
  {
   "metadata": {},
   "cell_type": "markdown",
   "source": "### Type Casting Attributes",
   "id": "5b9b9d3c90d715df"
  },
  {
   "metadata": {},
   "cell_type": "code",
   "source": "df.info()",
   "id": "3ddabeb537cf73f6",
   "outputs": [],
   "execution_count": null
  },
  {
   "metadata": {},
   "cell_type": "code",
   "source": [
    "# Formatting date of Effective to Date\n",
    "df['Effective To Date'] = pd.to_datetime(df['Effective To Date'], dayfirst=True, errors='coerce')"
   ],
   "id": "71835dba0c5ff343",
   "outputs": [],
   "execution_count": null
  },
  {
   "metadata": {},
   "cell_type": "code",
   "source": "df.info()",
   "id": "2b02967e9f29a1b1",
   "outputs": [],
   "execution_count": null
  },
  {
   "metadata": {},
   "cell_type": "markdown",
   "source": "## Checking for Outliers",
   "id": "eb2bd4cd7ec51de9"
  },
  {
   "metadata": {},
   "cell_type": "code",
   "source": [
    "num_cols = df.select_dtypes(include=['number']).columns\n",
    "num_cols"
   ],
   "id": "471d2817db434158",
   "outputs": [],
   "execution_count": null
  },
  {
   "metadata": {},
   "cell_type": "code",
   "source": [
    "df[num_cols].boxplot(\n",
    "            notch=True,\n",
    "            boxprops=dict(color='blue'),\n",
    "            medianprops=dict(color='red', linewidth=2),\n",
    "            vert=False,\n",
    "            grid=True\n",
    ")\n",
    "\n",
    "plt.title('Outlier Detecting of the numeric columns')\n",
    "plt.xticks(rotation=70)\n",
    "plt.xlabel('values')\n",
    "plt.show()"
   ],
   "id": "c17786ede85d4fb2",
   "outputs": [],
   "execution_count": null
  },
  {
   "metadata": {},
   "cell_type": "markdown",
   "source": "## Columns with possible outliers from the previous plot",
   "id": "fc59e34759fa7b18"
  },
  {
   "metadata": {},
   "cell_type": "code",
   "source": [
    "cols=['Total Claim Amount', 'Number of Policies', 'Monthly Premium Auto', 'Number of Open Complaints']\n",
    "    \n",
    "df[cols].boxplot(            \n",
    "                notch=True,\n",
    "                boxprops=dict(color='blue'),\n",
    "                medianprops=dict(color='red', linewidth=2),\n",
    "                vert=False,                                                        \n",
    "                grid=True)\n",
    "plt.title('Outlier Detecting of the certain numeric columns')\n",
    "plt.xticks(rotation=70)\n",
    "plt.xlabel('values')\n",
    "plt.show()"
   ],
   "id": "7d31e41ec120721",
   "outputs": [],
   "execution_count": null
  },
  {
   "metadata": {},
   "cell_type": "code",
   "source": "df['Number of Open Complaints'].unique()",
   "id": "cefcee4ad3b5c847",
   "outputs": [],
   "execution_count": null
  },
  {
   "metadata": {},
   "cell_type": "code",
   "source": "df['Monthly Premium Auto'].unique()",
   "id": "a792d330e3ac529d",
   "outputs": [],
   "execution_count": null
  },
  {
   "metadata": {},
   "cell_type": "code",
   "source": "df['Number of Policies'].unique()",
   "id": "210206909e337817",
   "outputs": [],
   "execution_count": null
  },
  {
   "metadata": {},
   "cell_type": "code",
   "source": "df['Total Claim Amount'].unique()",
   "id": "960b2b7ad8a8111b",
   "outputs": [],
   "execution_count": null
  },
  {
   "metadata": {},
   "cell_type": "markdown",
   "source": "# EDA",
   "id": "443e258ac6a82adb"
  },
  {
   "metadata": {},
   "cell_type": "markdown",
   "source": "### 1. Uni-Variate Analysis",
   "id": "6c93c785b7c25bf3"
  },
  {
   "metadata": {},
   "cell_type": "code",
   "source": [
    "cate_val = df.select_dtypes(include=['object'])\n",
    "cate_val.describe().T"
   ],
   "id": "a21d2e064b0b5c27",
   "outputs": [],
   "execution_count": null
  },
  {
   "metadata": {},
   "cell_type": "code",
   "source": [
    "num_val = df.select_dtypes(include=['number'])\n",
    "num_val.describe().T"
   ],
   "id": "980ab1240e025a65",
   "outputs": [],
   "execution_count": null
  },
  {
   "metadata": {},
   "cell_type": "code",
   "source": [
    "corr_coef, p = stats.pearsonr(df['Monthly Premium Auto'], df['Total Claim Amount'])\n",
    "\n",
    "print(f'Correlation Coefficient: {corr_coef}, p value: {p}')"
   ],
   "id": "6284efe81140148b",
   "outputs": [],
   "execution_count": null
  },
  {
   "metadata": {},
   "cell_type": "code",
   "source": [
    "corr_matrix = num_val.corr()\n",
    "plt.figure(figsize=(15,8))\n",
    "sns.heatmap(corr_matrix, annot=True, fmt='.2f')"
   ],
   "id": "3db05c207f30e15f",
   "outputs": [],
   "execution_count": null
  },
  {
   "metadata": {},
   "cell_type": "code",
   "source": "plt.scatter(df['Monthly Premium Auto'], df['Total Claim Amount'])",
   "id": "7cb0a43402ad9306",
   "outputs": [],
   "execution_count": null
  },
  {
   "metadata": {},
   "cell_type": "code",
   "source": "plt.scatter(df['Customer Lifetime Value'],df['Income'])\n",
   "id": "3380ea4738ef870c",
   "outputs": [],
   "execution_count": null
  },
  {
   "metadata": {},
   "cell_type": "code",
   "source": "plt.scatter(df['Number of Policies'], df['Customer Lifetime Value'])",
   "id": "6f205757f4b0a4ef",
   "outputs": [],
   "execution_count": null
  },
  {
   "metadata": {},
   "cell_type": "code",
   "source": "sns.countplot(x='Number of Policies', data=df)",
   "id": "fbd836997fb48c2b",
   "outputs": [],
   "execution_count": null
  },
  {
   "metadata": {},
   "cell_type": "markdown",
   "source": "People mostly like having one policy or 2 policies. Maybe it has demand or more engagement.",
   "id": "f55d5f910a5cbfb1"
  },
  {
   "metadata": {},
   "cell_type": "markdown",
   "source": "### Target Variable Analysis",
   "id": "364624cc7da1415d"
  },
  {
   "metadata": {},
   "cell_type": "code",
   "source": [
    "stats.probplot(df['Customer Lifetime Value'], plot = plt, dist='expon')\n",
    "plt.title('Quantile-Quantile plot')"
   ],
   "id": "c7aea6b011af7c07",
   "outputs": [],
   "execution_count": null
  },
  {
   "metadata": {},
   "cell_type": "markdown",
   "source": "Data doesn't follow distribution.",
   "id": "92ddb0cad7d7b5ce"
  },
  {
   "metadata": {},
   "cell_type": "code",
   "source": "sns.histplot(df['Customer Lifetime Value'], kde=True, bins=20)",
   "id": "4799836fccc351c1",
   "outputs": [],
   "execution_count": null
  },
  {
   "metadata": {},
   "cell_type": "markdown",
   "source": "It is right-skewed",
   "id": "9fc214f8515e33c8"
  },
  {
   "metadata": {},
   "cell_type": "code",
   "source": "df['Customer Lifetime Value'].plot.box(vert=False)",
   "id": "5ea878a2e3d62acb",
   "outputs": [],
   "execution_count": null
  },
  {
   "metadata": {},
   "cell_type": "markdown",
   "source": "Seems to have outliers",
   "id": "ea1b2202c9ca4f76"
  },
  {
   "metadata": {},
   "cell_type": "markdown",
   "source": [
    "## Hypothesis testing\n",
    "\n",
    "* Null Hypothesis: The data is Normally distributed\n",
    "* Alternative Hypothesis: The data is not normally distributed"
   ],
   "id": "1925bb4799dbe9f4"
  },
  {
   "metadata": {},
   "cell_type": "code",
   "source": [
    "statistic, p_value = stats.kstest(df['Customer Lifetime Value'], 'norm')\n",
    "\n",
    "print(f\"KS statistic: {statistic}, p-value: {p_value}\")\n"
   ],
   "id": "2f6e09199e249491",
   "outputs": [],
   "execution_count": null
  },
  {
   "metadata": {},
   "cell_type": "markdown",
   "source": [
    "* A p-value of 0.0 means that the null hypothesis is rejected, so CLV data does not follow a normal distribution. \n",
    "* KS statistics being 1.0 means the empirical distribution and theoretical distribution are completely different at some point. Means the data doesn't resemble a normal distribution at all. "
   ],
   "id": "ccfdae53f01858ca"
  },
  {
   "metadata": {
    "ExecuteTime": {
     "end_time": "2024-08-11T09:05:06.133838Z",
     "start_time": "2024-08-11T09:05:06.121989Z"
    }
   },
   "cell_type": "code",
   "source": [
    "anova = []\n",
    "manwhitney = []\n",
    "\n",
    "for column in cate_cols:\n",
    "    #print(column)\n",
    "    if df[column].nunique() > 2:\n",
    "        anova.append(column)\n",
    "    else:\n",
    "        manwhitney.append(column)\n",
    "  \n",
    "print(f'Columns for ANOVA test:', anova)        \n",
    "print(f'Columns for MANWHITNEY test:', manwhitney)\n"
   ],
   "id": "1fa0b86183ed45e5",
   "outputs": [
    {
     "name": "stdout",
     "output_type": "stream",
     "text": [
      "Columns for ANOVA test: ['Customer', 'State', 'Coverage', 'Education', 'Effective To Date', 'EmploymentStatus', 'Location Code', 'Marital Status', 'Policy Type', 'Policy', 'Renew Offer Type', 'Sales Channel', 'Vehicle Class', 'Vehicle Size']\n",
      "Columns for MANWHITNEY test: ['Response', 'Gender']\n"
     ]
    }
   ],
   "execution_count": 78
  },
  {
   "metadata": {},
   "cell_type": "markdown",
   "source": [
    "## Response:\n",
    "* Null Hypothesis: The distribution of CLV does not differ significantly between the two response groups.\n",
    "* Alternative Hypothesis: The distribution of CLV differs significantly between the two response groups."
   ],
   "id": "6a1b516a9f0170de"
  },
  {
   "metadata": {
    "ExecuteTime": {
     "end_time": "2024-08-11T09:06:49.993618Z",
     "start_time": "2024-08-11T09:06:49.745155Z"
    }
   },
   "cell_type": "code",
   "source": [
    "sns.kdeplot(data=df, x='Customer Lifetime Value', hue='Response', fill=True)\n",
    "plt.show()"
   ],
   "id": "2659ed957163a2fa",
   "outputs": [
    {
     "data": {
      "text/plain": [
       "<Figure size 640x480 with 1 Axes>"
      ],
      "image/png": "[encoded data removed]"
     },
     "metadata": {},
     "output_type": "display_data"
    }
   ],
   "execution_count": 82
  },
  {
   "metadata": {},
   "cell_type": "markdown",
   "source": "* There is a high peak of 'NO' for lower Customer Lifetime Value",
   "id": "48d46dfaf5d814f9"
  },
  {
   "metadata": {},
   "cell_type": "markdown",
   "source": "### Manwhitney test for 'Response'",
   "id": "61541cb79fea8b8c"
  },
  {
   "metadata": {
    "ExecuteTime": {
     "end_time": "2024-08-11T09:20:33.154925Z",
     "start_time": "2024-08-11T09:20:33.143577Z"
    }
   },
   "cell_type": "code",
   "source": [
    "yes = df[df['Response'] == 'Yes']['Customer Lifetime Value']\n",
    "no = df[df['Response'] == 'No']['Customer Lifetime Value']\n",
    "\n",
    "manwhitney_test = stats.mannwhitneyu(yes, no)\n",
    "print(f'Manwhitney statistic: {manwhitney_test}')"
   ],
   "id": "deb24c832eac2fa8",
   "outputs": [
    {
     "name": "stdout",
     "output_type": "stream",
     "text": [
      "Manwhitney statistic: MannwhitneyuResult(statistic=5060988.0, pvalue=0.5168872245291198)\n"
     ]
    }
   ],
   "execution_count": 84
  },
  {
   "metadata": {},
   "cell_type": "markdown",
   "source": "### This means there is no statistically significant difference in the Customer Lifetime Value  between two customer response groups.Fails to reject the null hypothesis",
   "id": "9288287e4ab1fce1"
  },
  {
   "metadata": {},
   "cell_type": "markdown",
   "source": [
    "### Gender \n",
    "* Null Hypothesis: The distribution of ClV does not differ significantly between the two gender groups.\n",
    "* Alternative Hypothesis: The distribution of CLV differs significantly between the two gender groups."
   ],
   "id": "a3747e1929bad669"
  },
  {
   "metadata": {},
   "cell_type": "markdown",
   "source": "### KDE Plot ",
   "id": "3aa932c189e63fcd"
  },
  {
   "metadata": {
    "ExecuteTime": {
     "end_time": "2024-08-11T09:29:00.487285Z",
     "start_time": "2024-08-11T09:29:00.232669Z"
    }
   },
   "cell_type": "code",
   "source": [
    "sns.kdeplot(data=df, x='Customer Lifetime Value', hue='Gender', fill=True)\n",
    "plt.show()"
   ],
   "id": "5003c5eff0a6d7d2",
   "outputs": [
    {
     "data": {
      "text/plain": [
       "<Figure size 640x480 with 1 Axes>"
      ],
      "image/png": "[encoded data removed]"
     },
     "metadata": {},
     "output_type": "display_data"
    }
   ],
   "execution_count": 85
  },
  {
   "metadata": {},
   "cell_type": "markdown",
   "source": "### Manwhitney test for Gender",
   "id": "7123f7a57106bf5d"
  },
  {
   "metadata": {
    "ExecuteTime": {
     "end_time": "2024-08-11T09:31:19.346966Z",
     "start_time": "2024-08-11T09:31:19.336403Z"
    }
   },
   "cell_type": "code",
   "source": [
    "male = df[df['Gender'] == 'M']['Customer Lifetime Value']\n",
    "female = df[df['Gender'] == 'F']['Customer Lifetime Value']\n",
    "\n",
    "manwhitney_test = stats.mannwhitneyu(male, female)\n",
    "print(f'Manwhitney statistic: {manwhitney_test}')"
   ],
   "id": "b23d2876f8d1f168",
   "outputs": [
    {
     "name": "stdout",
     "output_type": "stream",
     "text": [
      "Manwhitney statistic: MannwhitneyuResult(statistic=10337134.0, pvalue=0.48749303056449833)\n"
     ]
    }
   ],
   "execution_count": 87
  },
  {
   "metadata": {},
   "cell_type": "markdown",
   "source": "Gender has no significant impact on CLV. The distribution of CLv for different gender groups are statistically similar.",
   "id": "c7cd7a2db92e0ef5"
  },
  {
   "metadata": {},
   "cell_type": "markdown",
   "source": [
    "### State \n",
    "\n",
    "* Null Hypothesis: The group has the same mean ranks.\n",
    "* Alternative Hypothesis: The groups do not have the same mean ranks."
   ],
   "id": "a05bf0be96f3476d"
  },
  {
   "metadata": {
    "ExecuteTime": {
     "end_time": "2024-08-11T09:37:52.878792Z",
     "start_time": "2024-08-11T09:37:52.606148Z"
    }
   },
   "cell_type": "code",
   "source": [
    "sns.kdeplot(data=df, x='Customer Lifetime Value', hue='State', fill=True)\n",
    "plt.show()"
   ],
   "id": "2e366dab0d9e0b4a",
   "outputs": [
    {
     "data": {
      "text/plain": [
       "<Figure size 640x480 with 1 Axes>"
      ],
      "image/png": "[encoded data removed]"
     },
     "metadata": {},
     "output_type": "display_data"
    }
   ],
   "execution_count": 88
  },
  {
   "metadata": {},
   "cell_type": "markdown",
   "source": "## kruskal test",
   "id": "9ae0602d507657ff"
  },
  {
   "metadata": {
    "ExecuteTime": {
     "end_time": "2024-08-11T10:16:27.238835Z",
     "start_time": "2024-08-11T10:16:27.221075Z"
    }
   },
   "cell_type": "code",
   "source": [
    "washington = df[df['State'] == 'Washington']['Customer Lifetime Value']\n",
    "arizona = df[df['State'] == 'Arizona']['Customer Lifetime Value']\n",
    "nevada = df[df['State'] == 'Nevada']['Customer Lifetime Value']\n",
    "california = df[df['State'] == 'California']['Customer Lifetime Value']\n",
    "oregon = df[df['State'] == 'Oregon']['Customer Lifetime Value']\n",
    "\n",
    "state = stats.kruskal(washington, arizona, nevada, california, oregon)\n",
    "state"
   ],
   "id": "28e15e6d1b06f82a",
   "outputs": [
    {
     "data": {
      "text/plain": [
       "KruskalResult(statistic=5.072069583836472, pvalue=0.27998232358818953)"
      ]
     },
     "execution_count": 89,
     "metadata": {},
     "output_type": "execute_result"
    }
   ],
   "execution_count": 89
  },
  {
   "metadata": {},
   "cell_type": "markdown",
   "source": "The groups are statistically similar in terms of their ranks.",
   "id": "2736a617db579f20"
  },
  {
   "metadata": {
    "ExecuteTime": {
     "end_time": "2024-08-11T10:24:17.882602Z",
     "start_time": "2024-08-11T10:24:17.875173Z"
    }
   },
   "cell_type": "code",
   "source": [
    "anova_state = stats.f_oneway(washington, arizona, nevada, california, oregon)\n",
    "anova_state"
   ],
   "id": "577edab5eb8c76bb",
   "outputs": [
    {
     "data": {
      "text/plain": [
       "F_onewayResult(statistic=0.27289285462119306, pvalue=0.8955985932127517)"
      ]
     },
     "execution_count": 90,
     "metadata": {},
     "output_type": "execute_result"
    }
   ],
   "execution_count": 90
  },
  {
   "metadata": {},
   "cell_type": "code",
   "outputs": [],
   "execution_count": null,
   "source": "",
   "id": "9763d78d805cb7da"
  }
 ],
 "metadata": {
  "kernelspec": {
   "display_name": "Python 3",
   "language": "python",
   "name": "python3"
  },
  "language_info": {
   "codemirror_mode": {
    "name": "ipython",
    "version": 2
   },
   "file_extension": ".py",
   "mimetype": "text/x-python",
   "name": "python",
   "nbconvert_exporter": "python",
   "pygments_lexer": "ipython2",
   "version": "2.7.6"
  }
 },
 "nbformat": 4,
 "nbformat_minor": 5
}
